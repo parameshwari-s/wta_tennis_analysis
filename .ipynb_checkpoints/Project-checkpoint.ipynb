{
 "cells": [
  {
   "cell_type": "markdown",
   "id": "046e2911-14de-482d-a0e3-c3c99364f073",
   "metadata": {},
   "source": [
    "### 1. Load Required Libraries"
   ]
  },
  {
   "cell_type": "code",
   "execution_count": 1,
   "id": "5a983e99-235c-43fa-8cfe-73c58bd2f7e5",
   "metadata": {},
   "outputs": [],
   "source": [
    "import pandas as pd\n",
    "import os\n",
    "from sklearn.model_selection import train_test_split\n",
    "from sklearn.linear_model import LogisticRegression\n",
    "from sklearn.metrics import accuracy_score"
   ]
  },
  {
   "cell_type": "markdown",
   "id": "397009b8-4b66-4fd7-8d6f-59be7a96f912",
   "metadata": {},
   "source": [
    "### 2. Clean WTA Data"
   ]
  },
  {
   "cell_type": "code",
   "execution_count": 2,
   "id": "021af334-cb05-44e7-ba3e-50f206d66cb1",
   "metadata": {},
   "outputs": [],
   "source": [
    "years = range(2000, 2018)\n",
    "base_url = \"https://raw.githubusercontent.com/JeffSackmann/tennis_wta/master/wta_matches_{}.csv\"\n",
    "\n",
    "frames = []\n",
    "for year in years:\n",
    "    try:\n",
    "        df = pd.read_csv(base_url.format(year))\n",
    "        df['year'] = year\n",
    "        frames.append(df)\n",
    "    except Exception as e:\n",
    "        print(f\"Error loading {year}: {e}\")\n",
    "\n",
    "wta_all = pd.concat(frames, ignore_index=True)\n",
    "\n",
    "# Keep relevant columns\n",
    "wta_clean = wta_all[['tourney_date', 'surface', 'winner_name', 'loser_name', 'year']].copy()\n",
    "\n",
    "# Convert date\n",
    "wta_clean['tourney_date'] = pd.to_datetime(wta_clean['tourney_date'], format='%Y%m%d')\n",
    "\n",
    "# Standardize surface\n",
    "wta_clean['surface'] = wta_clean['surface'].str.strip().str.capitalize()\n",
    "\n",
    "# Drop missing player names\n",
    "wta_clean = wta_clean.dropna(subset=['winner_name', 'loser_name'])\n",
    "\n",
    "# Sort by date\n",
    "wta_clean = wta_clean.sort_values('tourney_date').reset_index(drop=True)\n",
    "\n",
    "# Remove duplicates\n",
    "wta_clean = wta_clean.drop_duplicates(subset=['tourney_date', 'winner_name', 'loser_name'])"
   ]
  },
  {
   "cell_type": "markdown",
   "id": "f96e0a06-03de-42fa-a658-b0bc51b43f19",
   "metadata": {},
   "source": [
    "### 3. Save Cleaned Data"
   ]
  },
  {
   "cell_type": "code",
   "execution_count": 3,
   "id": "2b0a8e72-081b-4755-86ca-540460e99a4f",
   "metadata": {},
   "outputs": [
    {
     "name": "stdout",
     "output_type": "stream",
     "text": [
      "✅ Cleaned WTA data saved!\n"
     ]
    }
   ],
   "source": [
    "# Save cleaned data\n",
    "os.makedirs(\"data/cleaned\", exist_ok=True)\n",
    "wta_clean.to_csv(\"data/cleaned/wta_cleaned.csv\", index=False)\n",
    "print(\"✅ Cleaned WTA data saved!\")"
   ]
  },
  {
   "cell_type": "markdown",
   "id": "e86f226c-cd41-4d77-8f0c-e354d542229f",
   "metadata": {},
   "source": [
    "### 4. Compute Elo Ratings"
   ]
  },
  {
   "cell_type": "code",
   "execution_count": 4,
   "id": "0848dcb4-bb57-498c-91b1-11dc6bcf4637",
   "metadata": {},
   "outputs": [],
   "source": [
    "K = 32\n",
    "players = pd.unique(wta_clean[['winner_name', 'loser_name']].values.ravel())\n",
    "elo_ratings = {player: 1500 for player in players}\n",
    "\n",
    "def expected_score(Ra, Rb):\n",
    "    return 1 / (1 + 10 ** ((Rb - Ra) / 400))\n",
    "\n",
    "# Keep Elo history for analysis\n",
    "elo_history = []\n",
    "\n",
    "for _, match in wta_clean.iterrows():\n",
    "    winner = match['winner_name']\n",
    "    loser = match['loser_name']\n",
    "    \n",
    "    Ra = elo_ratings[winner]\n",
    "    Rb = elo_ratings[loser]\n",
    "    \n",
    "    Ea = expected_score(Ra, Rb)\n",
    "    Eb = 1 - Ea\n",
    "    \n",
    "    # Update ratings\n",
    "    elo_ratings[winner] = Ra + K * (1 - Ea)\n",
    "    elo_ratings[loser] = Rb + K * (0 - Eb)\n",
    "    \n",
    "    # Record history\n",
    "    elo_history.append({\n",
    "        'date': match['tourney_date'],\n",
    "        'winner': winner,\n",
    "        'loser': loser,\n",
    "        'winner_elo': elo_ratings[winner],\n",
    "        'loser_elo': elo_ratings[loser],\n",
    "        'surface': match['surface']\n",
    "    })\n",
    "\n",
    "elo_df = pd.DataFrame(elo_history)"
   ]
  },
  {
   "cell_type": "markdown",
   "id": "37d9881d-396f-4d06-8708-52d90ad9be8d",
   "metadata": {},
   "source": [
    "### 5. Prepare Dataset for Logistic Regression"
   ]
  },
  {
   "cell_type": "code",
   "execution_count": 5,
   "id": "1f04cb9b-c1f5-49e7-9209-b5a4491d7947",
   "metadata": {},
   "outputs": [],
   "source": [
    "\n",
    "# Feature: Elo difference\n",
    "elo_df['elo_diff'] = elo_df['winner_elo'] - elo_df['loser_elo']\n",
    "\n",
    "# Encode surface as dummy variables\n",
    "elo_df = pd.get_dummies(elo_df, columns=['surface'], drop_first=True)\n",
    "\n",
    "# Target: winner=1, loser=0 (we predict if the winner wins = 1)\n",
    "X = elo_df.drop(columns=['date', 'winner', 'loser'])\n",
    "y = [1]*len(elo_df)  # all rows are winners\n",
    "\n",
    "# For logistic regression, create a balanced dataset by flipping some rows\n",
    "# We will randomly flip winner/loser to simulate prediction dataset\n",
    "elo_flipped = elo_df.copy()\n",
    "elo_flipped['elo_diff'] = -elo_flipped['elo_diff']\n",
    "y_flipped = [0]*len(elo_flipped)\n",
    "\n",
    "# Combine\n",
    "X_final = pd.concat([X, elo_flipped.drop(columns=['date','winner','loser'])], ignore_index=True)\n",
    "y_final = y + y_flipped\n",
    "\n",
    "# Split dataset\n",
    "X_train, X_test, y_train, y_test = train_test_split(X_final, y_final, test_size=0.2, random_state=42)"
   ]
  },
  {
   "cell_type": "markdown",
   "id": "0f911767-ff76-4b0a-8d3d-4713cea49b22",
   "metadata": {},
   "source": [
    "### 6. Train Logistic Regression"
   ]
  },
  {
   "cell_type": "code",
   "execution_count": 6,
   "id": "359c5709-10f0-4c2e-b4ec-2c7b9d62feea",
   "metadata": {},
   "outputs": [
    {
     "name": "stdout",
     "output_type": "stream",
     "text": [
      "✅ Logistic Regression Accuracy: 76.32%\n"
     ]
    }
   ],
   "source": [
    "# Train logistic regression\n",
    "lr = LogisticRegression(max_iter=1000)\n",
    "lr.fit(X_train, y_train)\n",
    "\n",
    "# Predict\n",
    "y_pred = lr.predict(X_test)\n",
    "acc = accuracy_score(y_test, y_pred)\n",
    "\n",
    "print(f\"✅ Logistic Regression Accuracy: {acc:.2%}\")\n"
   ]
  },
  {
   "cell_type": "code",
   "execution_count": null,
   "id": "602e6976-1b64-4bbe-8937-bda2af2c831a",
   "metadata": {},
   "outputs": [],
   "source": []
  }
 ],
 "metadata": {
  "kernelspec": {
   "display_name": "Python 3 (ipykernel)",
   "language": "python",
   "name": "python3"
  },
  "language_info": {
   "codemirror_mode": {
    "name": "ipython",
    "version": 3
   },
   "file_extension": ".py",
   "mimetype": "text/x-python",
   "name": "python",
   "nbconvert_exporter": "python",
   "pygments_lexer": "ipython3",
   "version": "3.11.7"
  }
 },
 "nbformat": 4,
 "nbformat_minor": 5
}
