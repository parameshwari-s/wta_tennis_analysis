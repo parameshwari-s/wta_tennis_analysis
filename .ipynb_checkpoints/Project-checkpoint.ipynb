{
 "cells": [
  {
   "cell_type": "code",
   "execution_count": 1,
   "id": "56e29cf1-0b98-43c0-98d8-3a7b3dd9a3cb",
   "metadata": {},
   "outputs": [
    {
     "name": "stdout",
     "output_type": "stream",
     "text": [
      "  tourney_id tourney_name surface  draw_size tourney_level  tourney_date  \\\n",
      "0  2024-9900   United Cup    Hard         18             I      20240101   \n",
      "1  2024-9900   United Cup    Hard         18             I      20240101   \n",
      "2  2024-9900   United Cup    Hard         18             I      20240101   \n",
      "3  2024-9900   United Cup    Hard         18             I      20240101   \n",
      "4  2024-9900   United Cup    Hard         18             I      20240101   \n",
      "\n",
      "   match_num  winner_id  winner_seed winner_entry  ... l_1stIn l_1stWon  \\\n",
      "0        299     216347          NaN          NaN  ...    27.0     13.0   \n",
      "1        297     216347          NaN          NaN  ...    47.0     28.0   \n",
      "2        295     201493          NaN          NaN  ...    82.0     47.0   \n",
      "3        293     216347          NaN          NaN  ...    27.0     18.0   \n",
      "4        291     201614          NaN          NaN  ...    72.0     51.0   \n",
      "\n",
      "   l_2ndWon l_SvGms  l_bpSaved  l_bpFaced  winner_rank winner_rank_points  \\\n",
      "0       7.0     7.0        4.0        8.0          1.0             9505.0   \n",
      "1       7.0    12.0        3.0        8.0          1.0             9505.0   \n",
      "2      10.0    15.0       11.0       19.0          NaN                NaN   \n",
      "3       6.0     8.0        6.0       11.0          1.0             9505.0   \n",
      "4      22.0    16.0        3.0        6.0         20.0             2330.0   \n",
      "\n",
      "  loser_rank loser_rank_points  \n",
      "0        NaN               NaN  \n",
      "1       20.0            2330.0  \n",
      "2      292.0             246.0  \n",
      "3       14.0            2770.0  \n",
      "4      544.0              89.0  \n",
      "\n",
      "[5 rows x 49 columns]\n"
     ]
    }
   ],
   "source": [
    "import pandas as pd\n",
    "\n",
    "url = \"https://raw.githubusercontent.com/JeffSackmann/tennis_wta/master/wta_matches_2024.csv\"\n",
    "wta_2024 = pd.read_csv(url)\n",
    "print(wta_2024.head())\n"
   ]
  },
  {
   "cell_type": "code",
   "execution_count": 2,
   "id": "dd97eb89-ae14-4f4c-9220-d82a4145bd4c",
   "metadata": {},
   "outputs": [
    {
     "name": "stdout",
     "output_type": "stream",
     "text": [
      "(51159, 50)\n"
     ]
    }
   ],
   "source": [
    "years = range(2000, 2018)\n",
    "base_url = \"https://raw.githubusercontent.com/JeffSackmann/tennis_wta/master/wta_matches_{}.csv\"\n",
    "\n",
    "frames = []\n",
    "for year in years:\n",
    "    try:\n",
    "        df = pd.read_csv(base_url.format(year))\n",
    "        df[\"year\"] = year\n",
    "        frames.append(df)\n",
    "    except Exception as e:\n",
    "        print(f\"Error loading {year}: {e}\")\n",
    "\n",
    "wta_all = pd.concat(frames, ignore_index=True)\n",
    "print(wta_all.shape)\n"
   ]
  },
  {
   "cell_type": "code",
   "execution_count": 4,
   "id": "c45ce1e6-d34e-4e16-a030-6a4308b3f2fb",
   "metadata": {},
   "outputs": [
    {
     "name": "stdout",
     "output_type": "stream",
     "text": [
      "✅ File saved successfully!\n"
     ]
    }
   ],
   "source": [
    "import os\n",
    "\n",
    "# Create folder if it doesn't exist\n",
    "os.makedirs(\"data/cleaned\", exist_ok=True)\n",
    "\n",
    "# Now save the CSV\n",
    "wta_all.to_csv(\"data/cleaned/wta_all.csv\", index=False)\n",
    "print(\"✅ File saved successfully!\")\n"
   ]
  },
  {
   "cell_type": "code",
   "execution_count": null,
   "id": "78de6750-25ee-4e71-9b29-eaeddfa4ab3f",
   "metadata": {},
   "outputs": [],
   "source": []
  }
 ],
 "metadata": {
  "kernelspec": {
   "display_name": "Python 3 (ipykernel)",
   "language": "python",
   "name": "python3"
  },
  "language_info": {
   "codemirror_mode": {
    "name": "ipython",
    "version": 3
   },
   "file_extension": ".py",
   "mimetype": "text/x-python",
   "name": "python",
   "nbconvert_exporter": "python",
   "pygments_lexer": "ipython3",
   "version": "3.11.7"
  }
 },
 "nbformat": 4,
 "nbformat_minor": 5
}
